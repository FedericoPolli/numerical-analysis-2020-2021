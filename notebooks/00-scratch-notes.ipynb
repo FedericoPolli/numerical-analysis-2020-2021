{
  "nbformat": 4,
  "nbformat_minor": 0,
  "metadata": {
    "colab": {
      "name": "scratch-notes-numerical-analysis.ipynb",
      "provenance": [],
      "collapsed_sections": []
    },
    "kernelspec": {
      "name": "python3",
      "display_name": "Python 3"
    }
  },
  "cells": [
    {
      "cell_type": "code",
      "metadata": {
        "id": "nBRV2RxG9xeu",
        "outputId": "589f5431-9e06-4f49-bbb7-68fd3933d01d",
        "colab": {
          "base_uri": "https://localhost:8080/",
          "height": 34
        }
      },
      "source": [
        "%pylab inline"
      ],
      "execution_count": null,
      "outputs": [
        {
          "output_type": "stream",
          "text": [
            "Populating the interactive namespace from numpy and matplotlib\n"
          ],
          "name": "stdout"
        }
      ]
    },
    {
      "cell_type": "code",
      "metadata": {
        "id": "Cu6G9Myw-wS_"
      },
      "source": [
        "def FD(f, x, h):\n",
        "  return (f(x+h)-f(x))/h\n",
        "\n",
        "def CFD(f, x, h):\n",
        "  return (f(x+h)-f(x-h))/(2*h)\n",
        "\n",
        "def myfun(x):\n",
        "  return sin(x)\n",
        "\n",
        "def exact(x):\n",
        "  return cos(x)"
      ],
      "execution_count": null,
      "outputs": []
    },
    {
      "cell_type": "code",
      "metadata": {
        "id": "WE07t1j_-9RN"
      },
      "source": [
        "x0 = 1\n",
        "\n",
        "H = [2**(-i) for i in range(1,75)]\n",
        "error  = [abs(exact(x0) -  FD(myfun, x0, h)) for h in H]\n",
        "error2 = [abs(exact(x0) - CFD(myfun, x0, h)) for h in H]"
      ],
      "execution_count": null,
      "outputs": []
    },
    {
      "cell_type": "code",
      "metadata": {
        "id": "gFGhg-e2_fYZ",
        "outputId": "6ec89b61-fb38-4465-9b5f-aa406c5674c2",
        "colab": {
          "base_uri": "https://localhost:8080/",
          "height": 286
        }
      },
      "source": [
        "loglog(H, error, 'ro-')\n",
        "loglog(H, error2, 'bo-')"
      ],
      "execution_count": null,
      "outputs": [
        {
          "output_type": "execute_result",
          "data": {
            "text/plain": [
              "[<matplotlib.lines.Line2D at 0x7f02557699e8>]"
            ]
          },
          "metadata": {
            "tags": []
          },
          "execution_count": 72
        },
        {
          "output_type": "display_data",
          "data": {
            "image/png": "[encoded data removed]",
            "text/plain": [
              "<Figure size 432x288 with 1 Axes>"
            ]
          },
          "metadata": {
            "tags": [],
            "needs_background": "light"
          }
        }
      ]
    },
    {
      "cell_type": "code",
      "metadata": {
        "id": "7ZObpKYhA_nl",
        "outputId": "ddcc396a-69bb-41e1-b62f-f7d2d29d2b3f",
        "colab": {
          "base_uri": "https://localhost:8080/",
          "height": 34
        }
      },
      "source": [
        "sin(x0)"
      ],
      "execution_count": null,
      "outputs": [
        {
          "output_type": "execute_result",
          "data": {
            "text/plain": [
              "0.0009999998333333417"
            ]
          },
          "metadata": {
            "tags": []
          },
          "execution_count": 54
        }
      ]
    },
    {
      "cell_type": "code",
      "metadata": {
        "id": "LFeCDgsFW-5v"
      },
      "source": [
        ""
      ],
      "execution_count": null,
      "outputs": []
    }
  ]
}