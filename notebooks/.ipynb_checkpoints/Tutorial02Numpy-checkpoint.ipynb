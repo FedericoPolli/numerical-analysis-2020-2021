{
 "cells": [
  {
   "cell_type": "markdown",
   "metadata": {
    "colab_type": "text",
    "id": "view-in-github"
   },
   "source": [
    "<a href=\"https://colab.research.google.com/github/luca-heltai/numerical-analysis-2020-2021/blob/master/notebooks/Tutorial02Numpy.ipynb\" target=\"_parent\"><img src=\"https://colab.research.google.com/assets/colab-badge.svg\" alt=\"Open In Colab\"/></a>"
   ]
  },
  {
   "cell_type": "code",
   "execution_count": 1,
   "metadata": {
    "id": "gsJzs1uaJfhY"
   },
   "outputs": [],
   "source": [
    "# In python a comment start with \"#\""
   ]
  },
  {
   "cell_type": "code",
   "execution_count": 2,
   "metadata": {
    "id": "OcsA3b6eKSRc"
   },
   "outputs": [],
   "source": [
    "# If you want to comment\n",
    "# multiple lines, you have\n",
    "# to do like that"
   ]
  },
  {
   "cell_type": "code",
   "execution_count": 3,
   "metadata": {
    "id": "Jy--Jo6MKYzS"
   },
   "outputs": [],
   "source": [
    "k = \"\"\"a very long string\"\"\""
   ]
  },
  {
   "cell_type": "code",
   "execution_count": 4,
   "metadata": {
    "id": "fUtHu5_sKjN_"
   },
   "outputs": [],
   "source": [
    "k = \"\"\" a very long\n",
    "string that goes on \n",
    "multiple lines\"\"\""
   ]
  },
  {
   "cell_type": "code",
   "execution_count": 5,
   "metadata": {
    "colab": {
     "base_uri": "https://localhost:8080/",
     "height": 36
    },
    "id": "PQ7fbDZGKrFR",
    "outputId": "bced7b0e-ed8b-4e6f-f4ef-220fe9e53ce1"
   },
   "outputs": [
    {
     "data": {
      "text/plain": [
       "' a very long\\nstring that goes on \\nmultiple lines'"
      ]
     },
     "execution_count": 5,
     "metadata": {},
     "output_type": "execute_result"
    }
   ],
   "source": [
    "k"
   ]
  },
  {
   "cell_type": "code",
   "execution_count": 6,
   "metadata": {
    "colab": {
     "base_uri": "https://localhost:8080/",
     "height": 36
    },
    "id": "7HGht2IPKrXZ",
    "outputId": "964cffce-d5c2-43c5-b52f-333415cbdd1f"
   },
   "outputs": [
    {
     "data": {
      "text/plain": [
       "'\\nIn this way I can write\\na comment that uses\\nmultiple lines\\n'"
      ]
     },
     "execution_count": 6,
     "metadata": {},
     "output_type": "execute_result"
    }
   ],
   "source": [
    "\"\"\"\n",
    "In this way I can write\n",
    "a comment that uses\n",
    "multiple lines\n",
    "\"\"\""
   ]
  },
  {
   "cell_type": "code",
   "execution_count": 7,
   "metadata": {
    "id": "vXN8LkF3KyQS"
   },
   "outputs": [],
   "source": [
    "def square(x):\n",
    "  \"\"\"\n",
    "  Take a number and return the square of it\n",
    "  \"\"\"\n",
    "  return x * x"
   ]
  },
  {
   "cell_type": "code",
   "execution_count": 8,
   "metadata": {
    "id": "6_6aEtFyLA56"
   },
   "outputs": [],
   "source": [
    "import math"
   ]
  },
  {
   "cell_type": "code",
   "execution_count": 9,
   "metadata": {
    "colab": {
     "base_uri": "https://localhost:8080/",
     "height": 35
    },
    "id": "IttMZG4BMWlZ",
    "outputId": "635d5e29-1221-4bbb-8a4a-1c0d0f54f60d"
   },
   "outputs": [
    {
     "data": {
      "text/plain": [
       "3.0"
      ]
     },
     "execution_count": 9,
     "metadata": {},
     "output_type": "execute_result"
    }
   ],
   "source": [
    "math.sqrt(9)"
   ]
  },
  {
   "cell_type": "code",
   "execution_count": 10,
   "metadata": {
    "id": "fkwbbpY8MX7k"
   },
   "outputs": [],
   "source": [
    "import math as mt"
   ]
  },
  {
   "cell_type": "code",
   "execution_count": 11,
   "metadata": {
    "colab": {
     "base_uri": "https://localhost:8080/",
     "height": 35
    },
    "id": "KYa4pWJ7Ml-A",
    "outputId": "b2819bd2-88a9-4313-b9aa-36584a923437"
   },
   "outputs": [
    {
     "data": {
      "text/plain": [
       "3.0"
      ]
     },
     "execution_count": 11,
     "metadata": {},
     "output_type": "execute_result"
    }
   ],
   "source": [
    "mt.sqrt(9)"
   ]
  },
  {
   "cell_type": "code",
   "execution_count": 12,
   "metadata": {
    "id": "MfoHv9XuMp5D"
   },
   "outputs": [],
   "source": [
    "import scipy as sp"
   ]
  },
  {
   "cell_type": "code",
   "execution_count": 13,
   "metadata": {
    "id": "js3b0lq1Myi2"
   },
   "outputs": [],
   "source": [
    "import sympy as sp"
   ]
  },
  {
   "cell_type": "code",
   "execution_count": 14,
   "metadata": {
    "id": "e9x_icLfM2Rr"
   },
   "outputs": [],
   "source": [
    "\n",
    "x = sp.var('x')\n",
    "\n",
    "\n",
    "\n",
    "\n",
    "\n",
    "\n",
    "\n"
   ]
  },
  {
   "cell_type": "code",
   "execution_count": 15,
   "metadata": {
    "colab": {
     "base_uri": "https://localhost:8080/",
     "height": 35
    },
    "id": "o1OQMY49NJoq",
    "outputId": "f82fe031-de84-4956-eb91-98405ed78aa4"
   },
   "outputs": [
    {
     "data": {
      "text/latex": [
       "$\\displaystyle x + 4$"
      ],
      "text/plain": [
       "x + 4"
      ]
     },
     "execution_count": 15,
     "metadata": {},
     "output_type": "execute_result"
    }
   ],
   "source": [
    "x - 1 + 5"
   ]
  },
  {
   "cell_type": "code",
   "execution_count": 16,
   "metadata": {
    "id": "PaCwOAyVNMEi"
   },
   "outputs": [],
   "source": [
    "s = (x + 1) * (x - 2)"
   ]
  },
  {
   "cell_type": "code",
   "execution_count": 17,
   "metadata": {
    "colab": {
     "base_uri": "https://localhost:8080/",
     "height": 35
    },
    "id": "UMP6cJSINSL6",
    "outputId": "38210c70-cfe0-4b34-a536-8e229aecc304"
   },
   "outputs": [
    {
     "data": {
      "text/latex": [
       "$\\displaystyle x^{2} - x - 2$"
      ],
      "text/plain": [
       "x**2 - x - 2"
      ]
     },
     "execution_count": 17,
     "metadata": {},
     "output_type": "execute_result"
    }
   ],
   "source": [
    "s.expand()"
   ]
  },
  {
   "cell_type": "code",
   "execution_count": 18,
   "metadata": {
    "id": "b9Pgm-WKNU1A"
   },
   "outputs": [],
   "source": [
    "y = sp.var('z')\n"
   ]
  },
  {
   "cell_type": "code",
   "execution_count": 19,
   "metadata": {
    "colab": {
     "base_uri": "https://localhost:8080/",
     "height": 35
    },
    "id": "6bj07IOJNZOr",
    "outputId": "7a7a108d-02b9-41d8-dbb8-48cb2be4dd1a"
   },
   "outputs": [
    {
     "data": {
      "text/latex": [
       "$\\displaystyle z - 5$"
      ],
      "text/plain": [
       "z - 5"
      ]
     },
     "execution_count": 19,
     "metadata": {},
     "output_type": "execute_result"
    }
   ],
   "source": [
    "y + 2 - 7"
   ]
  },
  {
   "cell_type": "code",
   "execution_count": 20,
   "metadata": {
    "id": "wE0-MNfDNtAE"
   },
   "outputs": [],
   "source": [
    "del x"
   ]
  },
  {
   "cell_type": "code",
   "execution_count": 21,
   "metadata": {
    "colab": {
     "base_uri": "https://localhost:8080/",
     "height": 171
    },
    "id": "xk5fm5pOODQ9",
    "outputId": "d6a3782a-6fb4-4351-b406-a766e4c5d17b"
   },
   "outputs": [
    {
     "ename": "NameError",
     "evalue": "name 'X' is not defined",
     "output_type": "error",
     "traceback": [
      "\u001b[0;31m---------------------------------------------------------------------------\u001b[0m",
      "\u001b[0;31mNameError\u001b[0m                                 Traceback (most recent call last)",
      "\u001b[0;32m<ipython-input-21-c2b504cfe544>\u001b[0m in \u001b[0;36m<module>\u001b[0;34m\u001b[0m\n\u001b[0;32m----> 1\u001b[0;31m \u001b[0;32mdel\u001b[0m \u001b[0mX\u001b[0m\u001b[0;34m\u001b[0m\u001b[0;34m\u001b[0m\u001b[0m\n\u001b[0m",
      "\u001b[0;31mNameError\u001b[0m: name 'X' is not defined"
     ]
    }
   ],
   "source": [
    "del X"
   ]
  },
  {
   "cell_type": "code",
   "execution_count": 22,
   "metadata": {
    "colab": {
     "base_uri": "https://localhost:8080/",
     "height": 35
    },
    "id": "6_NBx4GBOD2G",
    "outputId": "52f95bdf-fb4c-4e63-c379-1b63da579cf3"
   },
   "outputs": [
    {
     "data": {
      "text/latex": [
       "$\\displaystyle x^{6} - 6 x^{5} + 15 x^{4} - 20 x^{3} + 15 x^{2} - 6 x + 1$"
      ],
      "text/plain": [
       "x**6 - 6*x**5 + 15*x**4 - 20*x**3 + 15*x**2 - 6*x + 1"
      ]
     },
     "execution_count": 22,
     "metadata": {},
     "output_type": "execute_result"
    }
   ],
   "source": [
    "import sympy as sp\n",
    "X = sp.var('x')\n",
    "Y = (1-x)**6\n",
    "sp.expand(Y)\n",
    "\n"
   ]
  },
  {
   "cell_type": "code",
   "execution_count": 23,
   "metadata": {
    "colab": {
     "base_uri": "https://localhost:8080/",
     "height": 35
    },
    "id": "2LOBz149OHBO",
    "outputId": "8de7afa5-a841-4d58-b6a2-8458ebf7e61d"
   },
   "outputs": [
    {
     "data": {
      "text/latex": [
       "$\\displaystyle z$"
      ],
      "text/plain": [
       "z"
      ]
     },
     "execution_count": 23,
     "metadata": {},
     "output_type": "execute_result"
    }
   ],
   "source": [
    "z"
   ]
  },
  {
   "cell_type": "code",
   "execution_count": 24,
   "metadata": {
    "id": "KArCI_JSOKE1"
   },
   "outputs": [],
   "source": [
    "k = sp.var('l')"
   ]
  },
  {
   "cell_type": "code",
   "execution_count": 25,
   "metadata": {
    "colab": {
     "base_uri": "https://localhost:8080/",
     "height": 35
    },
    "id": "pSWUPEcYOMq-",
    "outputId": "d8cb0335-7caf-4164-e1b6-1577b6af3fae"
   },
   "outputs": [
    {
     "data": {
      "text/latex": [
       "$\\displaystyle l$"
      ],
      "text/plain": [
       "l"
      ]
     },
     "execution_count": 25,
     "metadata": {},
     "output_type": "execute_result"
    }
   ],
   "source": [
    "l\n",
    "\n",
    "\n",
    "\n"
   ]
  },
  {
   "cell_type": "code",
   "execution_count": 26,
   "metadata": {
    "colab": {
     "base_uri": "https://localhost:8080/",
     "height": 35
    },
    "id": "ReR1p8tLORLz",
    "outputId": "4de124ea-ce6f-4c22-c31a-c45b1cb96b43"
   },
   "outputs": [
    {
     "data": {
      "text/latex": [
       "$\\displaystyle x$"
      ],
      "text/plain": [
       "x"
      ]
     },
     "execution_count": 26,
     "metadata": {},
     "output_type": "execute_result"
    }
   ],
   "source": [
    "sp.var('x')\n",
    "x"
   ]
  },
  {
   "cell_type": "code",
   "execution_count": 27,
   "metadata": {
    "colab": {
     "base_uri": "https://localhost:8080/",
     "height": 35
    },
    "id": "drMy0fBbOvOx",
    "outputId": "60231e02-a998-4f49-dcf0-c17f172a0398"
   },
   "outputs": [
    {
     "data": {
      "text/latex": [
       "$\\displaystyle z$"
      ],
      "text/plain": [
       "z"
      ]
     },
     "execution_count": 27,
     "metadata": {},
     "output_type": "execute_result"
    }
   ],
   "source": [
    "y"
   ]
  },
  {
   "cell_type": "code",
   "execution_count": 28,
   "metadata": {
    "id": "uk_hVhs9O3GQ"
   },
   "outputs": [],
   "source": [
    "import numpy as np"
   ]
  },
  {
   "cell_type": "code",
   "execution_count": 29,
   "metadata": {
    "id": "hvUrvJd9QasE"
   },
   "outputs": [],
   "source": [
    "# I want to generate te lagrangian basis\n",
    "# i. e. a matrix such that, given some points\n",
    "# e_0, ..., e_k we have that\n",
    "# basis[i, j] = l_j(e_i)\n",
    "# where l_j is the j-th lagrangian polynomial\n",
    "# for some interpolation points q_0, ..., q_n\n",
    "\n",
    "def generate_lagrangian_basis(q, e):\n",
    "  n_q_points = q.shape[0]\n",
    "  n_e_points = e.shape[0]\n",
    "\n",
    "  basis = np.ones((n_e_points, n_q_points))\n",
    "\n",
    "  for i in range(n_e_points):\n",
    "    for j in range(n_q_points):\n",
    "      # lagrangian poly j is prod_k [(x - q_k) / (q_j - q_k)]\n",
    "      # basis[i, j] = prod_k [(e_i - q_k) / (q_j - q_k)]\n",
    "      for k in range(n_q_points):\n",
    "        if j == k:\n",
    "          continue\n",
    "        # The same than basis[i, j] = basis[i, j] * (e[i] - )...\n",
    "        basis[i, j] *= (e[i] - q[k]) / (q[j] - q[k])\n",
    "  return basis\n"
   ]
  },
  {
   "cell_type": "code",
   "execution_count": 30,
   "metadata": {
    "colab": {
     "base_uri": "https://localhost:8080/",
     "height": 35
    },
    "id": "qqHBzxGxUJA_",
    "outputId": "9a375c12-4eb2-406c-f833-543617cc1db8"
   },
   "outputs": [
    {
     "name": "stdout",
     "output_type": "stream",
     "text": [
      "[0.  0.5 1. ]\n"
     ]
    }
   ],
   "source": [
    "q = np.linspace(0, 1, 3)\n",
    "print(q)"
   ]
  },
  {
   "cell_type": "code",
   "execution_count": 31,
   "metadata": {
    "id": "jlW7w_IlUPGH"
   },
   "outputs": [],
   "source": [
    "e = np.linspace(0, 1, 100)"
   ]
  },
  {
   "cell_type": "code",
   "execution_count": 32,
   "metadata": {
    "id": "yUJSy-4zUjyR"
   },
   "outputs": [],
   "source": [
    "basis = generate_lagrangian_basis(q, e)"
   ]
  },
  {
   "cell_type": "code",
   "execution_count": 33,
   "metadata": {
    "colab": {
     "base_uri": "https://localhost:8080/",
     "height": 1000
    },
    "id": "ZJPhlFJqUpin",
    "outputId": "4019d225-2adf-400f-ddf2-79233b9a7665"
   },
   "outputs": [
    {
     "data": {
      "text/plain": [
       "array([[ 1.        ,  0.        , -0.        ],\n",
       "       [ 0.96990103,  0.03999592, -0.00989695],\n",
       "       [ 0.94021018,  0.07917559, -0.01938578],\n",
       "       [ 0.91092746,  0.11753903, -0.02846648],\n",
       "       [ 0.88205285,  0.15508622, -0.03713907],\n",
       "       [ 0.85358637,  0.19181716, -0.04540353],\n",
       "       [ 0.82552801,  0.22773186, -0.05325987],\n",
       "       [ 0.79787777,  0.26283032, -0.06070809],\n",
       "       [ 0.77063565,  0.29711254, -0.06774819],\n",
       "       [ 0.74380165,  0.33057851, -0.07438017],\n",
       "       [ 0.71737578,  0.36322824, -0.08060402],\n",
       "       [ 0.69135802,  0.39506173, -0.08641975],\n",
       "       [ 0.66574839,  0.42607897, -0.09182736],\n",
       "       [ 0.64054688,  0.45627997, -0.09682685],\n",
       "       [ 0.61575349,  0.48566473, -0.10141822],\n",
       "       [ 0.59136823,  0.51423324, -0.10560147],\n",
       "       [ 0.56739108,  0.54198551, -0.10937659],\n",
       "       [ 0.54382206,  0.56892154, -0.1127436 ],\n",
       "       [ 0.52066116,  0.59504132, -0.11570248],\n",
       "       [ 0.49790838,  0.62034486, -0.11825324],\n",
       "       [ 0.47556372,  0.64483216, -0.12039588],\n",
       "       [ 0.45362718,  0.66850321, -0.12213039],\n",
       "       [ 0.43209877,  0.69135802, -0.12345679],\n",
       "       [ 0.41097847,  0.71339659, -0.12437506],\n",
       "       [ 0.3902663 ,  0.73461892, -0.12488522],\n",
       "       [ 0.36996225,  0.755025  , -0.12498725],\n",
       "       [ 0.35006632,  0.77461484, -0.12468115],\n",
       "       [ 0.33057851,  0.79338843, -0.12396694],\n",
       "       [ 0.31149883,  0.81134578, -0.12284461],\n",
       "       [ 0.29282726,  0.82848689, -0.12131415],\n",
       "       [ 0.27456382,  0.84481175, -0.11937557],\n",
       "       [ 0.2567085 ,  0.86032038, -0.11702887],\n",
       "       [ 0.2392613 ,  0.87501275, -0.11427405],\n",
       "       [ 0.22222222,  0.88888889, -0.11111111],\n",
       "       [ 0.20559127,  0.90194878, -0.10754005],\n",
       "       [ 0.18936843,  0.91419243, -0.10356086],\n",
       "       [ 0.17355372,  0.92561983, -0.09917355],\n",
       "       [ 0.15814713,  0.936231  , -0.09437812],\n",
       "       [ 0.14314866,  0.94602592, -0.08917457],\n",
       "       [ 0.12855831,  0.95500459, -0.0835629 ],\n",
       "       [ 0.11437608,  0.96316702, -0.07754311],\n",
       "       [ 0.10060198,  0.97051321, -0.07111519],\n",
       "       [ 0.087236  ,  0.97704316, -0.06427916],\n",
       "       [ 0.07427813,  0.98275686, -0.057035  ],\n",
       "       [ 0.0617284 ,  0.98765432, -0.04938272],\n",
       "       [ 0.04958678,  0.99173554, -0.04132231],\n",
       "       [ 0.03785328,  0.99500051, -0.03285379],\n",
       "       [ 0.02652791,  0.99744924, -0.02397715],\n",
       "       [ 0.01561065,  0.99908173, -0.01469238],\n",
       "       [ 0.00510152,  0.99989797, -0.00499949],\n",
       "       [-0.00499949,  0.99989797,  0.00510152],\n",
       "       [-0.01469238,  0.99908173,  0.01561065],\n",
       "       [-0.02397715,  0.99744924,  0.02652791],\n",
       "       [-0.03285379,  0.99500051,  0.03785328],\n",
       "       [-0.04132231,  0.99173554,  0.04958678],\n",
       "       [-0.04938272,  0.98765432,  0.0617284 ],\n",
       "       [-0.057035  ,  0.98275686,  0.07427813],\n",
       "       [-0.06427916,  0.97704316,  0.087236  ],\n",
       "       [-0.07111519,  0.97051321,  0.10060198],\n",
       "       [-0.07754311,  0.96316702,  0.11437608],\n",
       "       [-0.0835629 ,  0.95500459,  0.12855831],\n",
       "       [-0.08917457,  0.94602592,  0.14314866],\n",
       "       [-0.09437812,  0.936231  ,  0.15814713],\n",
       "       [-0.09917355,  0.92561983,  0.17355372],\n",
       "       [-0.10356086,  0.91419243,  0.18936843],\n",
       "       [-0.10754005,  0.90194878,  0.20559127],\n",
       "       [-0.11111111,  0.88888889,  0.22222222],\n",
       "       [-0.11427405,  0.87501275,  0.2392613 ],\n",
       "       [-0.11702887,  0.86032038,  0.2567085 ],\n",
       "       [-0.11937557,  0.84481175,  0.27456382],\n",
       "       [-0.12131415,  0.82848689,  0.29282726],\n",
       "       [-0.12284461,  0.81134578,  0.31149883],\n",
       "       [-0.12396694,  0.79338843,  0.33057851],\n",
       "       [-0.12468115,  0.77461484,  0.35006632],\n",
       "       [-0.12498725,  0.755025  ,  0.36996225],\n",
       "       [-0.12488522,  0.73461892,  0.3902663 ],\n",
       "       [-0.12437506,  0.71339659,  0.41097847],\n",
       "       [-0.12345679,  0.69135802,  0.43209877],\n",
       "       [-0.12213039,  0.66850321,  0.45362718],\n",
       "       [-0.12039588,  0.64483216,  0.47556372],\n",
       "       [-0.11825324,  0.62034486,  0.49790838],\n",
       "       [-0.11570248,  0.59504132,  0.52066116],\n",
       "       [-0.1127436 ,  0.56892154,  0.54382206],\n",
       "       [-0.10937659,  0.54198551,  0.56739108],\n",
       "       [-0.10560147,  0.51423324,  0.59136823],\n",
       "       [-0.10141822,  0.48566473,  0.61575349],\n",
       "       [-0.09682685,  0.45627997,  0.64054688],\n",
       "       [-0.09182736,  0.42607897,  0.66574839],\n",
       "       [-0.08641975,  0.39506173,  0.69135802],\n",
       "       [-0.08060402,  0.36322824,  0.71737578],\n",
       "       [-0.07438017,  0.33057851,  0.74380165],\n",
       "       [-0.06774819,  0.29711254,  0.77063565],\n",
       "       [-0.06070809,  0.26283032,  0.79787777],\n",
       "       [-0.05325987,  0.22773186,  0.82552801],\n",
       "       [-0.04540353,  0.19181716,  0.85358637],\n",
       "       [-0.03713907,  0.15508622,  0.88205285],\n",
       "       [-0.02846648,  0.11753903,  0.91092746],\n",
       "       [-0.01938578,  0.07917559,  0.94021018],\n",
       "       [-0.00989695,  0.03999592,  0.96990103],\n",
       "       [ 0.        , -0.        ,  1.        ]])"
      ]
     },
     "execution_count": 33,
     "metadata": {},
     "output_type": "execute_result"
    }
   ],
   "source": [
    "basis"
   ]
  },
  {
   "cell_type": "code",
   "execution_count": 34,
   "metadata": {
    "id": "Yb-FVMX8UrkA"
   },
   "outputs": [],
   "source": [
    "import matplotlib.pyplot as plt"
   ]
  },
  {
   "cell_type": "code",
   "execution_count": 35,
   "metadata": {
    "colab": {
     "base_uri": "https://localhost:8080/",
     "height": 319
    },
    "id": "Mfcb9KP0VrYt",
    "outputId": "25dbc59e-af9b-447c-ab19-a01569ab9dca"
   },
   "outputs": [
    {
     "data": {
      "text/plain": [
       "[<matplotlib.lines.Line2D at 0x7fd3ee3f7e20>,\n",
       " <matplotlib.lines.Line2D at 0x7fd3ee3f7e80>,\n",
       " <matplotlib.lines.Line2D at 0x7fd3ee3f7fa0>]"
      ]
     },
     "execution_count": 35,
     "metadata": {},
     "output_type": "execute_result"
    },
    {
     "data": {
      "image/png": "[encoded data removed]",
      "text/plain": [
       "<Figure size 432x288 with 1 Axes>"
      ]
     },
     "metadata": {
      "needs_background": "light"
     },
     "output_type": "display_data"
    }
   ],
   "source": [
    "plt.plot(e, basis)"
   ]
  },
  {
   "cell_type": "code",
   "execution_count": 36,
   "metadata": {
    "id": "l7F3rsLsVyXM"
   },
   "outputs": [],
   "source": [
    "l = [1, 5, 9]"
   ]
  },
  {
   "cell_type": "code",
   "execution_count": 37,
   "metadata": {
    "id": "oPuzYQA2aBkN"
   },
   "outputs": [],
   "source": [
    "l[2] = \"banana\""
   ]
  },
  {
   "cell_type": "code",
   "execution_count": 38,
   "metadata": {
    "colab": {
     "base_uri": "https://localhost:8080/",
     "height": 35
    },
    "id": "Qi2tRd59aJvu",
    "outputId": "8edf9409-0dc8-421d-eafc-08800f8dea9b"
   },
   "outputs": [
    {
     "data": {
      "text/plain": [
       "[1, 5, 'banana']"
      ]
     },
     "execution_count": 38,
     "metadata": {},
     "output_type": "execute_result"
    }
   ],
   "source": [
    "l"
   ]
  },
  {
   "cell_type": "code",
   "execution_count": 39,
   "metadata": {
    "id": "XaOxydbDaKlq"
   },
   "outputs": [],
   "source": [
    "k = (1, 25, \"orange\")"
   ]
  },
  {
   "cell_type": "code",
   "execution_count": 40,
   "metadata": {
    "colab": {
     "base_uri": "https://localhost:8080/",
     "height": 35
    },
    "id": "N26p2hYkaYwB",
    "outputId": "c38822cf-c75f-418e-d2c0-329ffcb0c51c"
   },
   "outputs": [
    {
     "data": {
      "text/plain": [
       "(1, 25, 'orange')"
      ]
     },
     "execution_count": 40,
     "metadata": {},
     "output_type": "execute_result"
    }
   ],
   "source": [
    "k"
   ]
  },
  {
   "cell_type": "code",
   "execution_count": 41,
   "metadata": {
    "colab": {
     "base_uri": "https://localhost:8080/",
     "height": 35
    },
    "id": "ine0u1g2aZRx",
    "outputId": "56d3e468-a9ce-4839-e26b-dd4b80b6dc14"
   },
   "outputs": [
    {
     "data": {
      "text/plain": [
       "tuple"
      ]
     },
     "execution_count": 41,
     "metadata": {},
     "output_type": "execute_result"
    }
   ],
   "source": [
    "type(k)"
   ]
  },
  {
   "cell_type": "code",
   "execution_count": 42,
   "metadata": {
    "colab": {
     "base_uri": "https://localhost:8080/",
     "height": 171
    },
    "id": "aWU6b4IYadKP",
    "outputId": "4e3a4fac-b2b2-4a6e-d0ba-7b3d2b44780e"
   },
   "outputs": [
    {
     "ename": "TypeError",
     "evalue": "'tuple' object does not support item assignment",
     "output_type": "error",
     "traceback": [
      "\u001b[0;31m---------------------------------------------------------------------------\u001b[0m",
      "\u001b[0;31mTypeError\u001b[0m                                 Traceback (most recent call last)",
      "\u001b[0;32m<ipython-input-42-2428c750cd76>\u001b[0m in \u001b[0;36m<module>\u001b[0;34m\u001b[0m\n\u001b[0;32m----> 1\u001b[0;31m \u001b[0mk\u001b[0m\u001b[0;34m[\u001b[0m\u001b[0;36m1\u001b[0m\u001b[0;34m]\u001b[0m \u001b[0;34m=\u001b[0m \u001b[0;36m0\u001b[0m\u001b[0;34m\u001b[0m\u001b[0;34m\u001b[0m\u001b[0m\n\u001b[0m",
      "\u001b[0;31mTypeError\u001b[0m: 'tuple' object does not support item assignment"
     ]
    }
   ],
   "source": [
    "k[1] = 0"
   ]
  },
  {
   "cell_type": "code",
   "execution_count": 43,
   "metadata": {
    "id": "SHBwqk_vajTk"
   },
   "outputs": [],
   "source": [
    "arr = np.array([1, 2, 3])"
   ]
  },
  {
   "cell_type": "code",
   "execution_count": 44,
   "metadata": {
    "colab": {
     "base_uri": "https://localhost:8080/",
     "height": 35
    },
    "id": "hfnv9YTsa3jA",
    "outputId": "c5ed09f5-210d-4d3e-9c1d-7f3641b21f05"
   },
   "outputs": [
    {
     "data": {
      "text/plain": [
       "[0, 1, 4, 9, 16, 25, 36, 49, 64, 81]"
      ]
     },
     "execution_count": 44,
     "metadata": {},
     "output_type": "execute_result"
    }
   ],
   "source": [
    "[i*i for i in range(10)]"
   ]
  },
  {
   "cell_type": "code",
   "execution_count": 45,
   "metadata": {
    "id": "C9Lpd3zxbD2A"
   },
   "outputs": [],
   "source": [
    "l = [i*i for i in range(10)]\n",
    "k = tuple(l)"
   ]
  },
  {
   "cell_type": "code",
   "execution_count": 46,
   "metadata": {
    "colab": {
     "base_uri": "https://localhost:8080/",
     "height": 35
    },
    "id": "WLBcp_g1bMPD",
    "outputId": "5706e24e-3a36-452c-dbb1-e0d280f66a08"
   },
   "outputs": [
    {
     "data": {
      "text/plain": [
       "(0, 1, 4, 9, 16, 25, 36, 49, 64, 81)"
      ]
     },
     "execution_count": 46,
     "metadata": {},
     "output_type": "execute_result"
    }
   ],
   "source": [
    "k"
   ]
  },
  {
   "cell_type": "code",
   "execution_count": 47,
   "metadata": {
    "id": "lH1ae2TTbMnh"
   },
   "outputs": [],
   "source": [
    "l.append(100)"
   ]
  },
  {
   "cell_type": "code",
   "execution_count": 48,
   "metadata": {
    "id": "N4DbcH9mbkjf"
   },
   "outputs": [],
   "source": [
    "l2 = l"
   ]
  },
  {
   "cell_type": "code",
   "execution_count": 49,
   "metadata": {
    "id": "iBAtGY2vbmSt"
   },
   "outputs": [],
   "source": [
    "l.append(121)"
   ]
  },
  {
   "cell_type": "code",
   "execution_count": 50,
   "metadata": {
    "colab": {
     "base_uri": "https://localhost:8080/",
     "height": 35
    },
    "id": "t5QzvP3_brYq",
    "outputId": "83419379-ad3a-48b4-e103-734db4aa2862"
   },
   "outputs": [
    {
     "data": {
      "text/plain": [
       "[0, 1, 4, 9, 16, 25, 36, 49, 64, 81, 100, 121]"
      ]
     },
     "execution_count": 50,
     "metadata": {},
     "output_type": "execute_result"
    }
   ],
   "source": [
    "l2"
   ]
  },
  {
   "cell_type": "code",
   "execution_count": 51,
   "metadata": {
    "id": "nh4YznOgbsJM"
   },
   "outputs": [],
   "source": [
    "l = [1, 2, 3]"
   ]
  },
  {
   "cell_type": "code",
   "execution_count": 52,
   "metadata": {
    "colab": {
     "base_uri": "https://localhost:8080/",
     "height": 35
    },
    "id": "XUpJ2qt5b0zW",
    "outputId": "410a4ec8-9676-4b84-b92e-12d1fc1af98c"
   },
   "outputs": [
    {
     "data": {
      "text/plain": [
       "[0, 1, 4, 9, 16, 25, 36, 49, 64, 81, 100, 121]"
      ]
     },
     "execution_count": 52,
     "metadata": {},
     "output_type": "execute_result"
    }
   ],
   "source": [
    "l2"
   ]
  },
  {
   "cell_type": "code",
   "execution_count": 53,
   "metadata": {
    "id": "CU646kI4b1xb"
   },
   "outputs": [],
   "source": [
    "k1 = tuple (l2)"
   ]
  },
  {
   "cell_type": "code",
   "execution_count": 54,
   "metadata": {
    "colab": {
     "base_uri": "https://localhost:8080/",
     "height": 35
    },
    "id": "rI1d_f6Sb-cV",
    "outputId": "c9f647da-29f3-4fb1-b8ed-65be775ea591"
   },
   "outputs": [
    {
     "data": {
      "text/plain": [
       "(0, 1, 4, 9, 16, 25, 36, 49, 64, 81, 100, 121)"
      ]
     },
     "execution_count": 54,
     "metadata": {},
     "output_type": "execute_result"
    }
   ],
   "source": [
    "k1"
   ]
  },
  {
   "cell_type": "code",
   "execution_count": 55,
   "metadata": {
    "id": "aUhRHbgJb-1o"
   },
   "outputs": [],
   "source": [
    "k2 = k1"
   ]
  },
  {
   "cell_type": "code",
   "execution_count": 56,
   "metadata": {
    "colab": {
     "base_uri": "https://localhost:8080/",
     "height": 171
    },
    "id": "GVKe4jItcBAE",
    "outputId": "1bca13cd-d940-449c-f7e8-b3ea17621fd8"
   },
   "outputs": [
    {
     "ename": "AttributeError",
     "evalue": "'tuple' object has no attribute 'append'",
     "output_type": "error",
     "traceback": [
      "\u001b[0;31m---------------------------------------------------------------------------\u001b[0m",
      "\u001b[0;31mAttributeError\u001b[0m                            Traceback (most recent call last)",
      "\u001b[0;32m<ipython-input-56-a5546b8d0f27>\u001b[0m in \u001b[0;36m<module>\u001b[0;34m\u001b[0m\n\u001b[0;32m----> 1\u001b[0;31m \u001b[0mk1\u001b[0m\u001b[0;34m.\u001b[0m\u001b[0mappend\u001b[0m\u001b[0;34m(\u001b[0m\u001b[0;36m12\u001b[0m \u001b[0;34m*\u001b[0m \u001b[0;36m12\u001b[0m\u001b[0;34m)\u001b[0m\u001b[0;34m\u001b[0m\u001b[0;34m\u001b[0m\u001b[0m\n\u001b[0m",
      "\u001b[0;31mAttributeError\u001b[0m: 'tuple' object has no attribute 'append'"
     ]
    }
   ],
   "source": [
    "k1.append(12 * 12)"
   ]
  },
  {
   "cell_type": "code",
   "execution_count": 57,
   "metadata": {
    "id": "5aVl9acAcD8d"
   },
   "outputs": [],
   "source": [
    "k1 = \"HEllo!\""
   ]
  },
  {
   "cell_type": "code",
   "execution_count": 58,
   "metadata": {
    "colab": {
     "base_uri": "https://localhost:8080/",
     "height": 35
    },
    "id": "k1KAveY-cIvg",
    "outputId": "4880edc5-b407-40cc-cb13-ce4f7394cf1c"
   },
   "outputs": [
    {
     "data": {
      "text/plain": [
       "(0, 1, 4, 9, 16, 25, 36, 49, 64, 81, 100, 121)"
      ]
     },
     "execution_count": 58,
     "metadata": {},
     "output_type": "execute_result"
    }
   ],
   "source": [
    "k2"
   ]
  },
  {
   "cell_type": "code",
   "execution_count": 59,
   "metadata": {
    "id": "CtK7cXOBcYh_"
   },
   "outputs": [],
   "source": [
    "a = np.zeros((5,), dtype=np.float64)"
   ]
  },
  {
   "cell_type": "code",
   "execution_count": 60,
   "metadata": {
    "colab": {
     "base_uri": "https://localhost:8080/",
     "height": 35
    },
    "id": "pN32rcOZcJtF",
    "outputId": "f81d774a-ad2e-4acc-b0e1-665e51c04ddf"
   },
   "outputs": [
    {
     "data": {
      "text/plain": [
       "array([0., 0., 0., 0., 0.])"
      ]
     },
     "execution_count": 60,
     "metadata": {},
     "output_type": "execute_result"
    }
   ],
   "source": [
    "a"
   ]
  },
  {
   "cell_type": "code",
   "execution_count": 61,
   "metadata": {
    "colab": {
     "base_uri": "https://localhost:8080/",
     "height": 171
    },
    "id": "ZkjYyfKtcybJ",
    "outputId": "2d52b983-378c-422a-93c4-e49e0c8789a9"
   },
   "outputs": [
    {
     "ename": "ValueError",
     "evalue": "could not convert string to float: 'banana'",
     "output_type": "error",
     "traceback": [
      "\u001b[0;31m---------------------------------------------------------------------------\u001b[0m",
      "\u001b[0;31mValueError\u001b[0m                                Traceback (most recent call last)",
      "\u001b[0;32m<ipython-input-61-66bda4092d0c>\u001b[0m in \u001b[0;36m<module>\u001b[0;34m\u001b[0m\n\u001b[0;32m----> 1\u001b[0;31m \u001b[0ma\u001b[0m\u001b[0;34m[\u001b[0m\u001b[0;36m1\u001b[0m\u001b[0;34m]\u001b[0m \u001b[0;34m=\u001b[0m \u001b[0;34m\"banana\"\u001b[0m\u001b[0;34m\u001b[0m\u001b[0;34m\u001b[0m\u001b[0m\n\u001b[0m",
      "\u001b[0;31mValueError\u001b[0m: could not convert string to float: 'banana'"
     ]
    }
   ],
   "source": [
    "a[1] = \"banana\""
   ]
  },
  {
   "cell_type": "code",
   "execution_count": 62,
   "metadata": {
    "id": "T9KAQ4xWc03h"
   },
   "outputs": [],
   "source": [
    "a[1] = 3"
   ]
  },
  {
   "cell_type": "code",
   "execution_count": 63,
   "metadata": {
    "colab": {
     "base_uri": "https://localhost:8080/",
     "height": 35
    },
    "id": "7NN5yy9cc6OV",
    "outputId": "d770f555-1d5a-4ff1-bdf6-166986ddde3a"
   },
   "outputs": [
    {
     "data": {
      "text/plain": [
       "array([0., 3., 0., 0., 0.])"
      ]
     },
     "execution_count": 63,
     "metadata": {},
     "output_type": "execute_result"
    }
   ],
   "source": [
    "a"
   ]
  },
  {
   "cell_type": "code",
   "execution_count": null,
   "metadata": {
    "id": "0cKt4HjBc60Y"
   },
   "outputs": [],
   "source": [
    "a = 3"
   ]
  },
  {
   "cell_type": "code",
   "execution_count": null,
   "metadata": {
    "id": "Xw-1VDGgdRX8"
   },
   "outputs": [],
   "source": [
    "b = 4"
   ]
  },
  {
   "cell_type": "code",
   "execution_count": null,
   "metadata": {
    "colab": {
     "base_uri": "https://localhost:8080/",
     "height": 35
    },
    "id": "YVo_fzPAdTMr",
    "outputId": "a30c7fda-b563-4b08-fd13-c56c27063bb9"
   },
   "outputs": [
    {
     "data": {
      "text/plain": [
       "7"
      ]
     },
     "execution_count": 70,
     "metadata": {
      "tags": []
     },
     "output_type": "execute_result"
    }
   ],
   "source": [
    "a + b"
   ]
  },
  {
   "cell_type": "code",
   "execution_count": null,
   "metadata": {
    "id": "Yd-_Sx_qdUad"
   },
   "outputs": [],
   "source": [
    "a = \"string1\"\n",
    "b = \"string2\""
   ]
  },
  {
   "cell_type": "code",
   "execution_count": null,
   "metadata": {
    "colab": {
     "base_uri": "https://localhost:8080/",
     "height": 36
    },
    "id": "aWPd-sXAdYC8",
    "outputId": "86d3a96a-4648-4a99-adc2-8c6a2765ecbe"
   },
   "outputs": [
    {
     "data": {
      "application/vnd.google.colaboratory.intrinsic+json": {
       "type": "string"
      },
      "text/plain": [
       "'string1string2'"
      ]
     },
     "execution_count": 72,
     "metadata": {
      "tags": []
     },
     "output_type": "execute_result"
    }
   ],
   "source": [
    "a + b"
   ]
  },
  {
   "cell_type": "code",
   "execution_count": null,
   "metadata": {
    "id": "7iUDP3BVdaTS"
   },
   "outputs": [],
   "source": [
    "b = 3"
   ]
  },
  {
   "cell_type": "code",
   "execution_count": null,
   "metadata": {
    "colab": {
     "base_uri": "https://localhost:8080/",
     "height": 171
    },
    "id": "dWfy7VFVde-e",
    "outputId": "8694fdaf-81ce-41c1-bd19-9fa21c1d4751"
   },
   "outputs": [
    {
     "ename": "TypeError",
     "evalue": "ignored",
     "output_type": "error",
     "traceback": [
      "\u001b[0;31m---------------------------------------------------------------------------\u001b[0m",
      "\u001b[0;31mTypeError\u001b[0m                                 Traceback (most recent call last)",
      "\u001b[0;32m<ipython-input-74-bd58363a63fc>\u001b[0m in \u001b[0;36m<module>\u001b[0;34m()\u001b[0m\n\u001b[0;32m----> 1\u001b[0;31m \u001b[0ma\u001b[0m \u001b[0;34m+\u001b[0m \u001b[0mb\u001b[0m\u001b[0;34m\u001b[0m\u001b[0;34m\u001b[0m\u001b[0m\n\u001b[0m",
      "\u001b[0;31mTypeError\u001b[0m: must be str, not int"
     ]
    }
   ],
   "source": [
    "a + b"
   ]
  },
  {
   "cell_type": "code",
   "execution_count": null,
   "metadata": {
    "colab": {
     "base_uri": "https://localhost:8080/",
     "height": 36
    },
    "id": "763ewMJNdjRH",
    "outputId": "c087ced7-06ef-4892-e1cf-2014359fa019"
   },
   "outputs": [
    {
     "data": {
      "application/vnd.google.colaboratory.intrinsic+json": {
       "type": "string"
      },
      "text/plain": [
       "'string1string1string1'"
      ]
     },
     "execution_count": 75,
     "metadata": {
      "tags": []
     },
     "output_type": "execute_result"
    }
   ],
   "source": [
    "a * b"
   ]
  },
  {
   "cell_type": "code",
   "execution_count": null,
   "metadata": {
    "colab": {
     "base_uri": "https://localhost:8080/",
     "height": 35
    },
    "id": "rWVhPDOwdnLw",
    "outputId": "1b25e89e-66b0-4dce-a300-fdcfa337785d"
   },
   "outputs": [
    {
     "data": {
      "text/plain": [
       "[4, 6, 6, 'ciaociaociaociao']"
      ]
     },
     "execution_count": 76,
     "metadata": {
      "tags": []
     },
     "output_type": "execute_result"
    }
   ],
   "source": [
    "a = [1, 2, 3, 4]\n",
    "b = [4, 3, 2, \"ciao\"]\n",
    "\n",
    "c = []\n",
    "for i in range(len(a)):\n",
    "  c.append(a[i] * b[i])\n",
    "c"
   ]
  },
  {
   "cell_type": "code",
   "execution_count": null,
   "metadata": {
    "id": "QoobI583eC3B"
   },
   "outputs": [],
   "source": [
    " a = np.array([1, 2, 3, 4])\n",
    " b = np.array([4, 3, 2, 1])\n",
    "\n",
    " c = a * b"
   ]
  },
  {
   "cell_type": "code",
   "execution_count": null,
   "metadata": {
    "colab": {
     "base_uri": "https://localhost:8080/",
     "height": 35
    },
    "id": "yUP_kjgqenNz",
    "outputId": "c026a4ac-ad50-43dd-9995-6226c15d22b6"
   },
   "outputs": [
    {
     "data": {
      "text/plain": [
       "array([4, 6, 6, 4])"
      ]
     },
     "execution_count": 78,
     "metadata": {
      "tags": []
     },
     "output_type": "execute_result"
    }
   ],
   "source": [
    "c"
   ]
  },
  {
   "cell_type": "code",
   "execution_count": null,
   "metadata": {
    "colab": {
     "base_uri": "https://localhost:8080/",
     "height": 71
    },
    "id": "8AvQovkzenuk",
    "outputId": "38671f9d-bcc7-4058-b237-29a9377c30af"
   },
   "outputs": [
    {
     "data": {
      "text/plain": [
       "array([[0., 0.],\n",
       "       [0., 0.],\n",
       "       [0., 0.]], dtype=float32)"
      ]
     },
     "execution_count": 79,
     "metadata": {
      "tags": []
     },
     "output_type": "execute_result"
    }
   ],
   "source": [
    "matrix_size = (3, 2)\n",
    "matrix01 = np.zeros(matrix_size, dtype=np.float32)\n",
    "matrix01"
   ]
  },
  {
   "cell_type": "code",
   "execution_count": null,
   "metadata": {
    "id": "kiqe4DP4fMYO"
   },
   "outputs": [],
   "source": [
    "matrix02 = np.zeros((2, 3), dtype=np.int32)"
   ]
  },
  {
   "cell_type": "code",
   "execution_count": null,
   "metadata": {
    "colab": {
     "base_uri": "https://localhost:8080/",
     "height": 53
    },
    "id": "b3jxW1UofV7l",
    "outputId": "90264ead-f608-4145-d02f-af9c2e7507fc"
   },
   "outputs": [
    {
     "data": {
      "text/plain": [
       "array([[0, 0, 0],\n",
       "       [0, 0, 0]], dtype=int32)"
      ]
     },
     "execution_count": 81,
     "metadata": {
      "tags": []
     },
     "output_type": "execute_result"
    }
   ],
   "source": [
    "matrix02"
   ]
  },
  {
   "cell_type": "code",
   "execution_count": null,
   "metadata": {
    "colab": {
     "base_uri": "https://localhost:8080/",
     "height": 53
    },
    "id": "rntBLH69fXBE",
    "outputId": "68a1205b-0238-4c11-b9a3-ca7926c2a867"
   },
   "outputs": [
    {
     "data": {
      "text/plain": [
       "array([[1., 1.],\n",
       "       [1., 1.]])"
      ]
     },
     "execution_count": 83,
     "metadata": {
      "tags": []
     },
     "output_type": "execute_result"
    }
   ],
   "source": [
    "basis = np.ones((2, 2), dtype=np.float64)\n",
    "basis"
   ]
  },
  {
   "cell_type": "code",
   "execution_count": null,
   "metadata": {
    "colab": {
     "base_uri": "https://localhost:8080/",
     "height": 53
    },
    "id": "4v1ljjH-fqvf",
    "outputId": "a6ae22cc-0901-45cf-a1ad-00a0975cc956"
   },
   "outputs": [
    {
     "data": {
      "text/plain": [
       "array([[1., 1.],\n",
       "       [1., 1.]])"
      ]
     },
     "execution_count": 84,
     "metadata": {
      "tags": []
     },
     "output_type": "execute_result"
    }
   ],
   "source": [
    "basis = np.ones((2, 2))\n",
    "basis"
   ]
  },
  {
   "cell_type": "code",
   "execution_count": null,
   "metadata": {
    "colab": {
     "base_uri": "https://localhost:8080/",
     "height": 35
    },
    "id": "I1elGosAfy68",
    "outputId": "de9fbef7-b48a-4390-8e83-e23d0a9eac87"
   },
   "outputs": [
    {
     "data": {
      "text/plain": [
       "array([0., 0., 0., 0., 0.])"
      ]
     },
     "execution_count": 85,
     "metadata": {
      "tags": []
     },
     "output_type": "execute_result"
    }
   ],
   "source": [
    "np.zeros((5,), dtype=np.float64)"
   ]
  },
  {
   "cell_type": "code",
   "execution_count": null,
   "metadata": {
    "id": "hEEdj3zDgCZb"
   },
   "outputs": [],
   "source": [
    "k = (5)"
   ]
  },
  {
   "cell_type": "code",
   "execution_count": null,
   "metadata": {
    "colab": {
     "base_uri": "https://localhost:8080/",
     "height": 35
    },
    "id": "48OVUlxggKOh",
    "outputId": "534ab383-26d0-473a-aa20-8b0b9531cabc"
   },
   "outputs": [
    {
     "data": {
      "text/plain": [
       "int"
      ]
     },
     "execution_count": 87,
     "metadata": {
      "tags": []
     },
     "output_type": "execute_result"
    }
   ],
   "source": [
    "type(k)"
   ]
  },
  {
   "cell_type": "code",
   "execution_count": null,
   "metadata": {
    "id": "fJOIcdzLgLdP"
   },
   "outputs": [],
   "source": [
    "k = (5 + 2) * 2"
   ]
  },
  {
   "cell_type": "code",
   "execution_count": null,
   "metadata": {
    "id": "LuFmRVU-gSIa"
   },
   "outputs": [],
   "source": [
    "k = (5,)"
   ]
  },
  {
   "cell_type": "code",
   "execution_count": null,
   "metadata": {
    "colab": {
     "base_uri": "https://localhost:8080/",
     "height": 35
    },
    "id": "rmrhapKCgVCU",
    "outputId": "f39dc8be-1c2f-42f5-aec8-625dcf9664aa"
   },
   "outputs": [
    {
     "data": {
      "text/plain": [
       "tuple"
      ]
     },
     "execution_count": 90,
     "metadata": {
      "tags": []
     },
     "output_type": "execute_result"
    }
   ],
   "source": [
    "type(k)"
   ]
  },
  {
   "cell_type": "code",
   "execution_count": null,
   "metadata": {
    "colab": {
     "base_uri": "https://localhost:8080/",
     "height": 267
    },
    "id": "VBiNM5_ZgVyp",
    "outputId": "82a23578-3b0a-4117-d9bd-e4eb928742ff"
   },
   "outputs": [
    {
     "data": {
      "text/plain": [
       "array([[[0, 0],\n",
       "        [0, 0],\n",
       "        [0, 0],\n",
       "        [0, 0]],\n",
       "\n",
       "       [[0, 0],\n",
       "        [0, 0],\n",
       "        [0, 0],\n",
       "        [0, 0]],\n",
       "\n",
       "       [[0, 0],\n",
       "        [0, 0],\n",
       "        [0, 0],\n",
       "        [0, 0]]], dtype=int32)"
      ]
     },
     "execution_count": 92,
     "metadata": {
      "tags": []
     },
     "output_type": "execute_result"
    }
   ],
   "source": [
    "a = np.zeros((3, 4, 2), dtype=np.int32)\n",
    "a"
   ]
  },
  {
   "cell_type": "code",
   "execution_count": null,
   "metadata": {
    "colab": {
     "base_uri": "https://localhost:8080/",
     "height": 106
    },
    "id": "XlM_sYyDgh9A",
    "outputId": "b7c93e3b-b3d6-43de-aa5b-f1092912fe1d"
   },
   "outputs": [
    {
     "data": {
      "text/plain": [
       "array([[0., 0., 0., 0., 0.],\n",
       "       [0., 0., 0., 0., 0.],\n",
       "       [0., 0., 0., 0., 0.],\n",
       "       [0., 0., 0., 0., 0.],\n",
       "       [0., 0., 0., 0., 0.]], dtype=float32)"
      ]
     },
     "execution_count": 93,
     "metadata": {
      "tags": []
     },
     "output_type": "execute_result"
    }
   ],
   "source": [
    "np.zeros((5, 5), dtype=np.float32)"
   ]
  },
  {
   "cell_type": "code",
   "execution_count": null,
   "metadata": {
    "colab": {
     "base_uri": "https://localhost:8080/",
     "height": 106
    },
    "id": "gknBr0QMhh6J",
    "outputId": "ce7bbff3-8ca3-4350-9482-2d9ba8b1902b"
   },
   "outputs": [
    {
     "data": {
      "text/plain": [
       "array([[1., 1., 1., 1., 1.],\n",
       "       [1., 1., 1., 1., 1.],\n",
       "       [1., 1., 1., 1., 1.],\n",
       "       [1., 1., 1., 1., 1.],\n",
       "       [1., 1., 1., 1., 1.]])"
      ]
     },
     "execution_count": 94,
     "metadata": {
      "tags": []
     },
     "output_type": "execute_result"
    }
   ],
   "source": [
    "np.ones((5, 5), dtype=np.float64)"
   ]
  },
  {
   "cell_type": "code",
   "execution_count": null,
   "metadata": {
    "colab": {
     "base_uri": "https://localhost:8080/",
     "height": 106
    },
    "id": "6FKw8SoXhytb",
    "outputId": "71972fa2-7a74-4b25-9787-9a677d9714c2"
   },
   "outputs": [
    {
     "data": {
      "text/plain": [
       "array([[0, 0, 0, 0, 0],\n",
       "       [0, 0, 0, 0, 0],\n",
       "       [0, 0, 0, 0, 0],\n",
       "       [0, 0, 0, 0, 0],\n",
       "       [0, 0, 0, 0, 0]], dtype=int32)"
      ]
     },
     "execution_count": 95,
     "metadata": {
      "tags": []
     },
     "output_type": "execute_result"
    }
   ],
   "source": [
    "np.empty((5, 5), dtype=np.int32)"
   ]
  },
  {
   "cell_type": "code",
   "execution_count": null,
   "metadata": {
    "colab": {
     "base_uri": "https://localhost:8080/",
     "height": 35
    },
    "id": "WHjJ8o7Th3dU",
    "outputId": "6799f981-2cc2-410f-c76e-07ed3559a809"
   },
   "outputs": [
    {
     "data": {
      "text/plain": [
       "array([  1,  10, 100], dtype=int32)"
      ]
     },
     "execution_count": 96,
     "metadata": {
      "tags": []
     },
     "output_type": "execute_result"
    }
   ],
   "source": [
    "np.array([1, 10, 100], dtype=np.int32)"
   ]
  },
  {
   "cell_type": "code",
   "execution_count": null,
   "metadata": {
    "colab": {
     "base_uri": "https://localhost:8080/",
     "height": 171
    },
    "id": "zuHPN5ibiVYd",
    "outputId": "226df164-56e0-486e-d25c-5f162e8f2596"
   },
   "outputs": [
    {
     "ename": "ValueError",
     "evalue": "ignored",
     "output_type": "error",
     "traceback": [
      "\u001b[0;31m---------------------------------------------------------------------------\u001b[0m",
      "\u001b[0;31mValueError\u001b[0m                                Traceback (most recent call last)",
      "\u001b[0;32m<ipython-input-97-ac94470390f1>\u001b[0m in \u001b[0;36m<module>\u001b[0;34m()\u001b[0m\n\u001b[0;32m----> 1\u001b[0;31m \u001b[0mnp\u001b[0m\u001b[0;34m.\u001b[0m\u001b[0marray\u001b[0m\u001b[0;34m(\u001b[0m\u001b[0;34m[\u001b[0m\u001b[0;36m1\u001b[0m\u001b[0;34m,\u001b[0m \u001b[0;36m10\u001b[0m\u001b[0;34m,\u001b[0m \u001b[0;34m\"strawberry\"\u001b[0m\u001b[0;34m]\u001b[0m\u001b[0;34m,\u001b[0m \u001b[0mdtype\u001b[0m\u001b[0;34m=\u001b[0m\u001b[0mnp\u001b[0m\u001b[0;34m.\u001b[0m\u001b[0mint32\u001b[0m\u001b[0;34m)\u001b[0m\u001b[0;34m\u001b[0m\u001b[0;34m\u001b[0m\u001b[0m\n\u001b[0m",
      "\u001b[0;31mValueError\u001b[0m: invalid literal for int() with base 10: 'strawberry'"
     ]
    }
   ],
   "source": [
    "np.array([1, 10, \"strawberry\"], dtype=np.int32)"
   ]
  },
  {
   "cell_type": "code",
   "execution_count": null,
   "metadata": {
    "colab": {
     "base_uri": "https://localhost:8080/",
     "height": 71
    },
    "id": "6T8EEegyievY",
    "outputId": "34bc6b19-4728-4c08-be5d-8509296671bd"
   },
   "outputs": [
    {
     "data": {
      "text/plain": [
       "array([0.        , 0.45454545, 0.90909091, 1.36363636, 1.81818182,\n",
       "       2.27272727, 2.72727273, 3.18181818, 3.63636364, 4.09090909,\n",
       "       4.54545455, 5.        ])"
      ]
     },
     "execution_count": 98,
     "metadata": {
      "tags": []
     },
     "output_type": "execute_result"
    }
   ],
   "source": [
    "np.linspace(0, 5, 12)"
   ]
  },
  {
   "cell_type": "code",
   "execution_count": null,
   "metadata": {
    "colab": {
     "base_uri": "https://localhost:8080/",
     "height": 71
    },
    "id": "AAysDdHmioF8",
    "outputId": "b68b586f-29f5-493f-eb0d-7b8c1f889c8b"
   },
   "outputs": [
    {
     "data": {
      "text/plain": [
       "array([1.00000000e+00, 2.84803587e+00, 8.11130831e+00, 2.31012970e+01,\n",
       "       6.57933225e+01, 1.87381742e+02, 5.33669923e+02, 1.51991108e+03,\n",
       "       4.32876128e+03, 1.23284674e+04, 3.51119173e+04, 1.00000000e+05])"
      ]
     },
     "execution_count": 99,
     "metadata": {
      "tags": []
     },
     "output_type": "execute_result"
    }
   ],
   "source": [
    "np.logspace(0, 5, 12)"
   ]
  },
  {
   "cell_type": "code",
   "execution_count": null,
   "metadata": {
    "colab": {
     "base_uri": "https://localhost:8080/",
     "height": 267
    },
    "id": "9cvVRTiwisJW",
    "outputId": "bc01cddc-f177-49ae-dc7a-85062aecd640"
   },
   "outputs": [
    {
     "data": {
      "text/plain": [
       "array([[[0, 0],\n",
       "        [0, 0],\n",
       "        [0, 0],\n",
       "        [0, 0]],\n",
       "\n",
       "       [[0, 0],\n",
       "        [0, 0],\n",
       "        [0, 0],\n",
       "        [0, 0]],\n",
       "\n",
       "       [[0, 0],\n",
       "        [0, 0],\n",
       "        [0, 0],\n",
       "        [0, 0]]], dtype=int32)"
      ]
     },
     "execution_count": 100,
     "metadata": {
      "tags": []
     },
     "output_type": "execute_result"
    }
   ],
   "source": [
    "a"
   ]
  },
  {
   "cell_type": "code",
   "execution_count": null,
   "metadata": {
    "colab": {
     "base_uri": "https://localhost:8080/",
     "height": 35
    },
    "id": "FcjQsRXwiz5B",
    "outputId": "b2f5a838-4fc8-457e-a70e-3be2e0ff0097"
   },
   "outputs": [
    {
     "data": {
      "text/plain": [
       "(3, 4, 2)"
      ]
     },
     "execution_count": 101,
     "metadata": {
      "tags": []
     },
     "output_type": "execute_result"
    }
   ],
   "source": [
    "a.shape"
   ]
  },
  {
   "cell_type": "code",
   "execution_count": null,
   "metadata": {
    "colab": {
     "base_uri": "https://localhost:8080/",
     "height": 35
    },
    "id": "7Jjgy8b4i1bD",
    "outputId": "2a9bdc01-7860-4f5e-fc27-fa091644447e"
   },
   "outputs": [
    {
     "data": {
      "text/plain": [
       "4"
      ]
     },
     "execution_count": 102,
     "metadata": {
      "tags": []
     },
     "output_type": "execute_result"
    }
   ],
   "source": [
    "a.shape[1]"
   ]
  },
  {
   "cell_type": "code",
   "execution_count": null,
   "metadata": {
    "id": "KQzqivyPi5wp"
   },
   "outputs": [],
   "source": []
  }
 ],
 "metadata": {
  "colab": {
   "authorship_tag": "ABX9TyPayHoz96QOQvXlZlqo8RRX",
   "include_colab_link": true,
   "name": "Tutorial02Numpy.ipynb",
   "provenance": []
  },
  "kernelspec": {
   "display_name": "Python 3",
   "language": "python",
   "name": "python3"
  },
  "language_info": {
   "codemirror_mode": {
    "name": "ipython",
    "version": 3
   },
   "file_extension": ".py",
   "mimetype": "text/x-python",
   "name": "python",
   "nbconvert_exporter": "python",
   "pygments_lexer": "ipython3",
   "version": "3.8.3"
  }
 },
 "nbformat": 4,
 "nbformat_minor": 1
}
